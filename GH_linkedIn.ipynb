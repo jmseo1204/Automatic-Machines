{
 "cells": [
  {
   "cell_type": "code",
   "execution_count": 4,
   "metadata": {},
   "outputs": [
    {
     "name": "stdout",
     "output_type": "stream",
     "text": [
      "안녕하세요, Growth Hackers입니다!\n",
      "\n",
      "그로스해커스는 외부 기업과의 산학협력 프로젝트를 통해, 학회원들이 데이터를 이용해 기업의 문제를 해결해 볼 수 있는 기회를 제공합니다.\n",
      "\n",
      "Growth Hackers의 새로운 식구가 된 15기와 OT를 진행했습니다. 송인성 지도교수님의 인사말을 시작으로 학회 활동과 운영팀에 대해 알아보았습니다. 자기소개와 뒤풀이 시간을 통해 서로 알아가며 친해졌답니다.\n",
      "\n",
      "한 달 간 19개 주제에 대한 에듀세션에 참여한 15기 학회원들은 과제를 수행하며 프로젝트에 필요한 데이터 분석 능력을 길렀습니다. 프로젝트를 진행하면서 에듀세션에서 배운 데이터 분석과 모델링 방법을 적용하고 서로 친해질 수 있는 소중한 경험을 쌓았습니다.\n",
      "\n",
      "14기와 15기 학회원들끼리 조별로 모여 맛있는 밥을 먹으며 친해지는 소중한 시간을 가졌습니다. 함께하는 시간을 통해 더욱 긴밀한 협력과 소통이 가능해졌습니다.\n",
      "\n",
      "계속해서 Growth Hackers의 다양한 활동과 소식을 기대해주시고, 많은 관심과 참여 부탁드립니다.\n"
     ]
    }
   ],
   "source": [
    "from gpt import ask\n",
    "import os\n",
    "\n",
    "API_KEY = os.environ[\"OPENAI_API_KEY\"]\n",
    "\n",
    "history = open(\"./history.txt\", 'r').read()\n",
    "question = open(\"./게시물글감.txt\", 'r').read()\n",
    "\n",
    "\n",
    "prompt_sys = \"\"\"\n",
    "\n",
    "[상황]\n",
    "너는 LinkedIn 게시물 관리자야. \n",
    "user는 너에게 게시물에 올릴 글감을 줄거고, 너는 그 글감을 LinkedIn에 올릴 수 있도록 자연스러운 문맥의 글을 출력해야해.\n",
    "\n",
    "[조건]\n",
    "user가 준 글은 이미 요약된 글이기 때문에 너는 글을 추가적으로 요약하면 안돼. 다만 글의 분위기를 통일시키거나 문맥의 일관성을 위해 단어를 바꾸는 것은 가능해.\n",
    "글은 지적이고, 전문적인 어조로 밝은 분위기의 대학생이 작성하는 것처럼 해줘.\n",
    "총 글자 수가 500~800자가 되야 해. 그래서 문장의 길이를 늘리는 게 목표고, 너는 적절한 단어와 문장을 글감에 끼워넣어야 해.\n",
    "글의 처음은 '안녕하세요, Growth Hackers입니다!\n",
    "\n",
    "그로스해커스는 외부 기업과의 산학협력 프로젝트를 통해, 학회원들이 데이터를 이용해 기업의 문제를 해결해 볼 수 있는 기회를 제공합니다.'\n",
    "으로 고정해줘.\n",
    "글의 마지막은 많은 관심을 부탁하는 문장으로, 이번 게시물의 맥락에 맞게 적절한 문장을 넣어줘.\n",
    "\n",
    "\n",
    "이하의 예시는 지금까지 너가 작성해온 LinkedIn 게시물 글이야. 이 예시와 유사한 분위기의 글을 출력해줘.\n",
    "\n",
    "[예시]\n",
    "{history}\n",
    "\"\"\"\n",
    "\n",
    "prompt_usr = \"\"\"\n",
    "이 글감으로 LinkedIn 게시물을 써줘.\n",
    "\n",
    "[글감]\n",
    "{question}\n",
    "\n",
    "\"\"\"\n",
    "\n",
    "prompt = [{\"role\":\"system\", \"content\":prompt_sys.format(history = history)},\n",
    "            {\"role\":\"user\", \"content\":prompt_usr.format(question = question)}\n",
    "        ]\n",
    "answer = ask(API_KEY, prompt)[-1]['content']\n",
    "\n",
    "print(answer)\n"
   ]
  }
 ],
 "metadata": {
  "kernelspec": {
   "display_name": "py311",
   "language": "python",
   "name": "python3"
  },
  "language_info": {
   "codemirror_mode": {
    "name": "ipython",
    "version": 3
   },
   "file_extension": ".py",
   "mimetype": "text/x-python",
   "name": "python",
   "nbconvert_exporter": "python",
   "pygments_lexer": "ipython3",
   "version": "3.11.5"
  }
 },
 "nbformat": 4,
 "nbformat_minor": 2
}
